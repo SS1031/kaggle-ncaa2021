{
 "cells": [
  {
   "cell_type": "code",
   "execution_count": 2,
   "metadata": {
    "collapsed": true
   },
   "outputs": [],
   "source": [
    "from pytorch_tabnet.tab_model import TabNetClassifier\n",
    "\n",
    "import torch\n",
    "from sklearn.preprocessing import LabelEncoder\n",
    "from sklearn.metrics import roc_auc_score\n",
    "\n",
    "import pandas as pd\n",
    "import numpy as np\n",
    "np.random.seed(0)\n",
    "\n",
    "\n",
    "import os\n",
    "import wget\n",
    "from pathlib import Path\n",
    "\n",
    "from matplotlib import pyplot as plt\n",
    "%matplotlib inline"
   ]
  },
  {
   "cell_type": "code",
   "execution_count": 3,
   "outputs": [],
   "source": [
    "# Download data\n",
    "url = \"https://archive.ics.uci.edu/ml/machine-learning-databases/adult/adult.data\"\n",
    "dataset_name = 'census-income'\n",
    "out = Path(os.getcwd()+'/data/'+dataset_name+'.csv')"
   ],
   "metadata": {
    "collapsed": false,
    "pycharm": {
     "name": "#%%\n"
    }
   }
  },
  {
   "cell_type": "code",
   "execution_count": 4,
   "outputs": [
    {
     "name": "stdout",
     "output_type": "stream",
     "text": [
      "Downloading file...\n"
     ]
    }
   ],
   "source": [
    "out.parent.mkdir(parents=True, exist_ok=True)\n",
    "if out.exists():\n",
    "    print(\"File already exists.\")\n",
    "else:\n",
    "    print(\"Downloading file...\")\n",
    "    wget.download(url, out.as_posix())"
   ],
   "metadata": {
    "collapsed": false,
    "pycharm": {
     "name": "#%%\n"
    }
   }
  },
  {
   "cell_type": "code",
   "execution_count": 5,
   "outputs": [],
   "source": [
    "train = pd.read_csv(out)\n",
    "target = ' <=50K'\n",
    "if \"Set\" not in train.columns:\n",
    "    train[\"Set\"] = np.random.choice([\"train\", \"valid\", \"test\"], p =[.8, .1, .1], size=(train.shape[0],))\n",
    "\n",
    "train_indices = train[train.Set==\"train\"].index\n",
    "valid_indices = train[train.Set==\"valid\"].index\n",
    "test_indices = train[train.Set==\"test\"].index"
   ],
   "metadata": {
    "collapsed": false,
    "pycharm": {
     "name": "#%%\n"
    }
   }
  },
  {
   "cell_type": "code",
   "execution_count": 6,
   "outputs": [
    {
     "name": "stdout",
     "output_type": "stream",
     "text": [
      "39 73\n",
      " State-gov 9\n",
      " Bachelors 16\n",
      " 13 16\n",
      " Never-married 7\n",
      " Adm-clerical 15\n",
      " Not-in-family 6\n",
      " White 5\n",
      " Male 2\n",
      " 2174 119\n",
      " 0 92\n",
      " 40 94\n",
      " United-States 42\n",
      " <=50K 2\n",
      "Set 3\n"
     ]
    }
   ],
   "source": [
    "nunique = train.nunique()\n",
    "types = train.dtypes\n",
    "\n",
    "categorical_columns = []\n",
    "categorical_dims =  {}\n",
    "for col in train.columns:\n",
    "    if types[col] == 'object' or nunique[col] < 200:\n",
    "        print(col, train[col].nunique())\n",
    "        l_enc = LabelEncoder()\n",
    "        train[col] = train[col].fillna(\"VV_likely\")\n",
    "        train[col] = l_enc.fit_transform(train[col].values)\n",
    "        categorical_columns.append(col)\n",
    "        categorical_dims[col] = len(l_enc.classes_)\n",
    "    else:\n",
    "        train.fillna(train.loc[train_indices, col].mean(), inplace=True)"
   ],
   "metadata": {
    "collapsed": false,
    "pycharm": {
     "name": "#%%\n"
    }
   }
  },
  {
   "cell_type": "code",
   "execution_count": 7,
   "outputs": [],
   "source": [
    "# check that pipeline accepts strings\n",
    "train.loc[train[target]==0, target] = \"wealthy\"\n",
    "train.loc[train[target]==1, target] = \"not_wealthy\""
   ],
   "metadata": {
    "collapsed": false,
    "pycharm": {
     "name": "#%%\n"
    }
   }
  },
  {
   "cell_type": "code",
   "execution_count": 8,
   "outputs": [],
   "source": [
    "unused_feat = ['Set']\n",
    "features = [col for col in train.columns if col not in unused_feat+[target]]\n",
    "cat_idxs = [i for i, f in enumerate(features) if f in categorical_columns]\n",
    "cat_dims = [categorical_dims[f] for i, f in enumerate(features) if f in categorical_columns]"
   ],
   "metadata": {
    "collapsed": false,
    "pycharm": {
     "name": "#%%\n"
    }
   }
  },
  {
   "cell_type": "code",
   "execution_count": 17,
   "outputs": [],
   "source": [
    "X_train = train[features].values[train_indices]\n",
    "y_train = train[target].values[train_indices]\n",
    "\n",
    "X_valid = train[features].values[valid_indices]\n",
    "y_valid = train[target].values[valid_indices]\n",
    "\n",
    "X_test = train[features].values[test_indices]\n",
    "y_test = train[target].values[test_indices]"
   ],
   "metadata": {
    "collapsed": false,
    "pycharm": {
     "name": "#%%\n"
    }
   }
  },
  {
   "cell_type": "code",
   "execution_count": null,
   "outputs": [],
   "source": [
    "train.info()"
   ],
   "metadata": {
    "collapsed": false,
    "pycharm": {
     "name": "#%%\n"
    }
   }
  },
  {
   "cell_type": "code",
   "execution_count": 10,
   "outputs": [
    {
     "data": {
      "text/plain": "                      0        1        2        3        4\n39                   33       21       36       11       20\n State-gov            6        4        4        4        4\n 77516            83311   215646   234721   338409   284582\n Bachelors            9       11        1        9       12\n 13                  12        8        6       12       13\n Never-married        2        0        2        2        2\n Adm-clerical         4        6        6       10        4\n Not-in-family        0        1        0        5        5\n White                4        4        2        2        4\n Male                 1        1        1        0        0\n 2174                 0        0        0        0        0\n 0                    0        0        0        0        0\n 40                  12       39       39       39       39\n United-States       39       39       39        5       39\n <=50K          wealthy  wealthy  wealthy  wealthy  wealthy\nSet                   1        1        1        1        1",
      "text/html": "<div>\n<style scoped>\n    .dataframe tbody tr th:only-of-type {\n        vertical-align: middle;\n    }\n\n    .dataframe tbody tr th {\n        vertical-align: top;\n    }\n\n    .dataframe thead th {\n        text-align: right;\n    }\n</style>\n<table border=\"1\" class=\"dataframe\">\n  <thead>\n    <tr style=\"text-align: right;\">\n      <th></th>\n      <th>0</th>\n      <th>1</th>\n      <th>2</th>\n      <th>3</th>\n      <th>4</th>\n    </tr>\n  </thead>\n  <tbody>\n    <tr>\n      <th>39</th>\n      <td>33</td>\n      <td>21</td>\n      <td>36</td>\n      <td>11</td>\n      <td>20</td>\n    </tr>\n    <tr>\n      <th>State-gov</th>\n      <td>6</td>\n      <td>4</td>\n      <td>4</td>\n      <td>4</td>\n      <td>4</td>\n    </tr>\n    <tr>\n      <th>77516</th>\n      <td>83311</td>\n      <td>215646</td>\n      <td>234721</td>\n      <td>338409</td>\n      <td>284582</td>\n    </tr>\n    <tr>\n      <th>Bachelors</th>\n      <td>9</td>\n      <td>11</td>\n      <td>1</td>\n      <td>9</td>\n      <td>12</td>\n    </tr>\n    <tr>\n      <th>13</th>\n      <td>12</td>\n      <td>8</td>\n      <td>6</td>\n      <td>12</td>\n      <td>13</td>\n    </tr>\n    <tr>\n      <th>Never-married</th>\n      <td>2</td>\n      <td>0</td>\n      <td>2</td>\n      <td>2</td>\n      <td>2</td>\n    </tr>\n    <tr>\n      <th>Adm-clerical</th>\n      <td>4</td>\n      <td>6</td>\n      <td>6</td>\n      <td>10</td>\n      <td>4</td>\n    </tr>\n    <tr>\n      <th>Not-in-family</th>\n      <td>0</td>\n      <td>1</td>\n      <td>0</td>\n      <td>5</td>\n      <td>5</td>\n    </tr>\n    <tr>\n      <th>White</th>\n      <td>4</td>\n      <td>4</td>\n      <td>2</td>\n      <td>2</td>\n      <td>4</td>\n    </tr>\n    <tr>\n      <th>Male</th>\n      <td>1</td>\n      <td>1</td>\n      <td>1</td>\n      <td>0</td>\n      <td>0</td>\n    </tr>\n    <tr>\n      <th>2174</th>\n      <td>0</td>\n      <td>0</td>\n      <td>0</td>\n      <td>0</td>\n      <td>0</td>\n    </tr>\n    <tr>\n      <th>0</th>\n      <td>0</td>\n      <td>0</td>\n      <td>0</td>\n      <td>0</td>\n      <td>0</td>\n    </tr>\n    <tr>\n      <th>40</th>\n      <td>12</td>\n      <td>39</td>\n      <td>39</td>\n      <td>39</td>\n      <td>39</td>\n    </tr>\n    <tr>\n      <th>United-States</th>\n      <td>39</td>\n      <td>39</td>\n      <td>39</td>\n      <td>5</td>\n      <td>39</td>\n    </tr>\n    <tr>\n      <th>&lt;=50K</th>\n      <td>wealthy</td>\n      <td>wealthy</td>\n      <td>wealthy</td>\n      <td>wealthy</td>\n      <td>wealthy</td>\n    </tr>\n    <tr>\n      <th>Set</th>\n      <td>1</td>\n      <td>1</td>\n      <td>1</td>\n      <td>1</td>\n      <td>1</td>\n    </tr>\n  </tbody>\n</table>\n</div>"
     },
     "execution_count": 10,
     "metadata": {},
     "output_type": "execute_result"
    }
   ],
   "source": [
    "train.head().T"
   ],
   "metadata": {
    "collapsed": false,
    "pycharm": {
     "name": "#%%\n"
    }
   }
  },
  {
   "cell_type": "code",
   "execution_count": 11,
   "outputs": [
    {
     "name": "stdout",
     "output_type": "stream",
     "text": [
      "['39', ' State-gov', ' 77516', ' Bachelors', ' 13', ' Never-married', ' Adm-clerical', ' Not-in-family', ' White', ' Male', ' 2174', ' 0', ' 40', ' United-States']\n",
      "[0, 1, 3, 4, 5, 6, 7, 8, 9, 10, 11, 12, 13]\n",
      "[73, 9, 16, 16, 7, 15, 6, 5, 2, 119, 92, 94, 42]\n"
     ]
    }
   ],
   "source": [
    "print(features)\n",
    "print(cat_idxs)\n",
    "print(cat_dims)"
   ],
   "metadata": {
    "collapsed": false,
    "pycharm": {
     "name": "#%%\n"
    }
   }
  },
  {
   "cell_type": "code",
   "execution_count": 13,
   "outputs": [],
   "source": [
    "from pytorch_tabnet.pretraining import TabNetPretrainer"
   ],
   "metadata": {
    "collapsed": false,
    "pycharm": {
     "name": "#%%\n"
    }
   }
  },
  {
   "cell_type": "code",
   "execution_count": 14,
   "outputs": [
    {
     "name": "stdout",
     "output_type": "stream",
     "text": [
      "Device used : cpu\n"
     ]
    }
   ],
   "source": [
    "# TabNetPretrainer\n",
    "unsupervised_model = TabNetPretrainer(\n",
    "    cat_idxs=cat_idxs,\n",
    "    cat_dims=cat_dims,\n",
    "    cat_emb_dim=3,\n",
    "    optimizer_fn=torch.optim.Adam,\n",
    "    optimizer_params=dict(lr=2e-2),\n",
    "    mask_type='entmax' # \"sparsemax\"\n",
    ")"
   ],
   "metadata": {
    "collapsed": false,
    "pycharm": {
     "name": "#%%\n"
    }
   }
  },
  {
   "cell_type": "code",
   "execution_count": 15,
   "outputs": [],
   "source": [
    "max_epochs = 1000"
   ],
   "metadata": {
    "collapsed": false,
    "pycharm": {
     "name": "#%%\n"
    }
   }
  },
  {
   "cell_type": "code",
   "execution_count": 18,
   "outputs": [
    {
     "name": "stdout",
     "output_type": "stream",
     "text": [
      "epoch 0  | loss: 3.28012 | val_0_unsup_loss: 1.64399 |  0:00:03s\n",
      "epoch 1  | loss: 1.32805 | val_0_unsup_loss: 1.22339 |  0:00:06s\n",
      "epoch 2  | loss: 1.14534 | val_0_unsup_loss: 1.10805 |  0:00:10s\n",
      "epoch 3  | loss: 1.09746 | val_0_unsup_loss: 1.09452 |  0:00:13s\n",
      "epoch 4  | loss: 1.07923 | val_0_unsup_loss: 1.0811  |  0:00:16s\n",
      "epoch 5  | loss: 1.06692 | val_0_unsup_loss: 1.06259 |  0:00:19s\n",
      "epoch 6  | loss: 1.05479 | val_0_unsup_loss: 1.0482  |  0:00:23s\n",
      "epoch 7  | loss: 1.03909 | val_0_unsup_loss: 1.04181 |  0:00:26s\n",
      "epoch 8  | loss: 1.0313  | val_0_unsup_loss: 1.03274 |  0:00:30s\n",
      "epoch 9  | loss: 1.01926 | val_0_unsup_loss: 1.00781 |  0:00:34s\n",
      "epoch 10 | loss: 1.00494 | val_0_unsup_loss: 0.97993 |  0:00:37s\n",
      "epoch 11 | loss: 0.98833 | val_0_unsup_loss: 0.9668  |  0:00:41s\n",
      "epoch 12 | loss: 0.9735  | val_0_unsup_loss: 0.92845 |  0:00:44s\n",
      "epoch 13 | loss: 0.96184 | val_0_unsup_loss: 0.89682 |  0:00:48s\n",
      "epoch 14 | loss: 0.94478 | val_0_unsup_loss: 0.86025 |  0:00:52s\n",
      "epoch 15 | loss: 0.93385 | val_0_unsup_loss: 0.82384 |  0:00:55s\n",
      "epoch 16 | loss: 0.91989 | val_0_unsup_loss: 0.78994 |  0:00:59s\n",
      "epoch 17 | loss: 0.90763 | val_0_unsup_loss: 0.76887 |  0:01:02s\n",
      "epoch 18 | loss: 0.89009 | val_0_unsup_loss: 0.74881 |  0:01:05s\n",
      "epoch 19 | loss: 0.87484 | val_0_unsup_loss: 0.7362  |  0:01:09s\n",
      "epoch 20 | loss: 0.86675 | val_0_unsup_loss: 0.72813 |  0:01:12s\n",
      "epoch 21 | loss: 0.86186 | val_0_unsup_loss: 0.71925 |  0:01:15s\n",
      "epoch 22 | loss: 0.85237 | val_0_unsup_loss: 0.70859 |  0:01:19s\n",
      "epoch 23 | loss: 0.85196 | val_0_unsup_loss: 0.70879 |  0:01:22s\n",
      "epoch 24 | loss: 0.84423 | val_0_unsup_loss: 0.70511 |  0:01:25s\n",
      "epoch 25 | loss: 0.83776 | val_0_unsup_loss: 0.70475 |  0:01:29s\n",
      "epoch 26 | loss: 0.83539 | val_0_unsup_loss: 0.70051 |  0:01:33s\n",
      "epoch 27 | loss: 0.83279 | val_0_unsup_loss: 0.69543 |  0:01:36s\n",
      "epoch 28 | loss: 0.82992 | val_0_unsup_loss: 0.69407 |  0:01:40s\n",
      "epoch 29 | loss: 0.82839 | val_0_unsup_loss: 0.69419 |  0:01:43s\n",
      "epoch 30 | loss: 0.82657 | val_0_unsup_loss: 0.69033 |  0:01:46s\n",
      "epoch 31 | loss: 0.82518 | val_0_unsup_loss: 0.68646 |  0:01:49s\n",
      "epoch 32 | loss: 0.82235 | val_0_unsup_loss: 0.68513 |  0:01:53s\n",
      "epoch 33 | loss: 0.81996 | val_0_unsup_loss: 0.67565 |  0:01:56s\n",
      "epoch 34 | loss: 0.81513 | val_0_unsup_loss: 0.67422 |  0:02:00s\n",
      "epoch 35 | loss: 0.81254 | val_0_unsup_loss: 0.6629  |  0:02:03s\n",
      "epoch 36 | loss: 0.80866 | val_0_unsup_loss: 0.65712 |  0:02:07s\n",
      "epoch 37 | loss: 0.80261 | val_0_unsup_loss: 0.6563  |  0:02:11s\n",
      "epoch 38 | loss: 0.80395 | val_0_unsup_loss: 0.64947 |  0:02:14s\n",
      "epoch 39 | loss: 0.79912 | val_0_unsup_loss: 0.64512 |  0:02:18s\n",
      "epoch 40 | loss: 0.78887 | val_0_unsup_loss: 0.62833 |  0:02:22s\n",
      "epoch 41 | loss: 0.78563 | val_0_unsup_loss: 0.61537 |  0:02:25s\n",
      "epoch 42 | loss: 0.77994 | val_0_unsup_loss: 0.5998  |  0:02:29s\n",
      "epoch 43 | loss: 0.77294 | val_0_unsup_loss: 0.59344 |  0:02:33s\n",
      "epoch 44 | loss: 0.76697 | val_0_unsup_loss: 0.57899 |  0:02:37s\n",
      "epoch 45 | loss: 0.76026 | val_0_unsup_loss: 0.56651 |  0:02:41s\n",
      "epoch 46 | loss: 0.75709 | val_0_unsup_loss: 0.55286 |  0:02:45s\n",
      "epoch 47 | loss: 0.7527  | val_0_unsup_loss: 0.53601 |  0:02:49s\n",
      "epoch 48 | loss: 0.74432 | val_0_unsup_loss: 0.50209 |  0:02:53s\n",
      "epoch 49 | loss: 0.73978 | val_0_unsup_loss: 0.49912 |  0:02:56s\n",
      "epoch 50 | loss: 0.72798 | val_0_unsup_loss: 0.46948 |  0:03:00s\n",
      "epoch 51 | loss: 0.72503 | val_0_unsup_loss: 0.45984 |  0:03:04s\n",
      "epoch 52 | loss: 0.71475 | val_0_unsup_loss: 0.43616 |  0:03:08s\n",
      "epoch 53 | loss: 0.70803 | val_0_unsup_loss: 0.42471 |  0:03:12s\n",
      "epoch 54 | loss: 0.69595 | val_0_unsup_loss: 0.42419 |  0:03:16s\n",
      "epoch 55 | loss: 0.6868  | val_0_unsup_loss: 0.39714 |  0:03:20s\n",
      "epoch 56 | loss: 0.6798  | val_0_unsup_loss: 0.40686 |  0:03:24s\n",
      "epoch 57 | loss: 0.67148 | val_0_unsup_loss: 0.38297 |  0:03:28s\n",
      "epoch 58 | loss: 0.66674 | val_0_unsup_loss: 0.36437 |  0:03:31s\n",
      "epoch 59 | loss: 0.65988 | val_0_unsup_loss: 0.34528 |  0:03:34s\n",
      "epoch 60 | loss: 0.65378 | val_0_unsup_loss: 0.34049 |  0:03:38s\n",
      "epoch 61 | loss: 0.64906 | val_0_unsup_loss: 0.33095 |  0:03:42s\n",
      "epoch 62 | loss: 0.64801 | val_0_unsup_loss: 0.34558 |  0:03:46s\n",
      "epoch 63 | loss: 0.64257 | val_0_unsup_loss: 0.32285 |  0:03:51s\n",
      "epoch 64 | loss: 0.64265 | val_0_unsup_loss: 0.29668 |  0:03:55s\n",
      "epoch 65 | loss: 0.6358  | val_0_unsup_loss: 0.29699 |  0:03:59s\n",
      "epoch 66 | loss: 0.63071 | val_0_unsup_loss: 0.28548 |  0:04:03s\n",
      "epoch 67 | loss: 0.63437 | val_0_unsup_loss: 0.28226 |  0:04:07s\n",
      "epoch 68 | loss: 0.62843 | val_0_unsup_loss: 0.29764 |  0:04:11s\n",
      "epoch 69 | loss: 0.62245 | val_0_unsup_loss: 0.29355 |  0:04:15s\n",
      "epoch 70 | loss: 0.62275 | val_0_unsup_loss: 0.27806 |  0:04:18s\n",
      "epoch 71 | loss: 0.62183 | val_0_unsup_loss: 0.28393 |  0:04:22s\n",
      "epoch 72 | loss: 0.61185 | val_0_unsup_loss: 0.28622 |  0:04:26s\n",
      "epoch 73 | loss: 0.62104 | val_0_unsup_loss: 0.29022 |  0:04:30s\n",
      "epoch 74 | loss: 0.6191  | val_0_unsup_loss: 0.30225 |  0:04:34s\n",
      "epoch 75 | loss: 0.61626 | val_0_unsup_loss: 0.29725 |  0:04:38s\n",
      "\n",
      "Early stopping occurred at epoch 75 with best_epoch = 70 and best_val_0_unsup_loss = 0.27806\n",
      "Best weights from best epoch are automatically used!\n"
     ]
    }
   ],
   "source": [
    "unsupervised_model.fit(\n",
    "    X_train=X_train,\n",
    "    eval_set=[X_valid],\n",
    "    max_epochs=max_epochs , patience=5,\n",
    "    batch_size=2048, virtual_batch_size=128,\n",
    "    num_workers=0,\n",
    "    drop_last=False,\n",
    "    pretraining_ratio=0.8,\n",
    ")"
   ],
   "metadata": {
    "collapsed": false,
    "pycharm": {
     "name": "#%%\n"
    }
   }
  },
  {
   "cell_type": "code",
   "execution_count": 19,
   "outputs": [],
   "source": [
    "# Make reconstruction from a dataset\n",
    "reconstructed_X, embedded_X = unsupervised_model.predict(X_valid)\n",
    "assert(reconstructed_X.shape==embedded_X.shape)"
   ],
   "metadata": {
    "collapsed": false,
    "pycharm": {
     "name": "#%%\n"
    }
   }
  },
  {
   "cell_type": "code",
   "execution_count": 20,
   "outputs": [],
   "source": [
    "unsupervised_explain_matrix, unsupervised_masks = unsupervised_model.explain(X_valid)"
   ],
   "metadata": {
    "collapsed": false,
    "pycharm": {
     "name": "#%%\n"
    }
   }
  },
  {
   "cell_type": "code",
   "execution_count": 21,
   "outputs": [
    {
     "data": {
      "text/plain": "<Figure size 1440x1440 with 3 Axes>",
      "image/png": "[encoded data removed]"
     },
     "metadata": {
      "needs_background": "light"
     },
     "output_type": "display_data"
    }
   ],
   "source": [
    "fig, axs = plt.subplots(1, 3, figsize=(20,20))\n",
    "\n",
    "for i in range(3):\n",
    "    axs[i].imshow(unsupervised_masks[i][:50])\n",
    "    axs[i].set_title(f\"mask {i}\")"
   ],
   "metadata": {
    "collapsed": false,
    "pycharm": {
     "name": "#%%\n"
    }
   }
  },
  {
   "cell_type": "code",
   "execution_count": 22,
   "outputs": [
    {
     "name": "stdout",
     "output_type": "stream",
     "text": [
      "Successfully saved model at ./test_pretrain.zip\n",
      "Device used : cpu\n",
      "Device used : cpu\n",
      "Device used : cpu\n",
      "Loading weights from unsupervised pretraining\n",
      "epoch 0  | loss: 0.55172 | train_auc: 0.85401 | valid_auc: 0.86781 |  0:00:04s\n",
      "epoch 1  | loss: 0.4249  | train_auc: 0.87945 | valid_auc: 0.88843 |  0:00:07s\n",
      "epoch 2  | loss: 0.41561 | train_auc: 0.88863 | valid_auc: 0.89396 |  0:00:12s\n",
      "epoch 3  | loss: 0.39339 | train_auc: 0.90286 | valid_auc: 0.90471 |  0:00:15s\n",
      "epoch 4  | loss: 0.37293 | train_auc: 0.91302 | valid_auc: 0.91669 |  0:00:19s\n",
      "epoch 5  | loss: 0.35984 | train_auc: 0.91855 | valid_auc: 0.91839 |  0:00:23s\n",
      "epoch 6  | loss: 0.35374 | train_auc: 0.91954 | valid_auc: 0.92329 |  0:00:27s\n",
      "epoch 7  | loss: 0.34787 | train_auc: 0.92426 | valid_auc: 0.92504 |  0:00:31s\n",
      "epoch 8  | loss: 0.34969 | train_auc: 0.9228  | valid_auc: 0.9218  |  0:00:35s\n",
      "epoch 9  | loss: 0.34444 | train_auc: 0.92694 | valid_auc: 0.92835 |  0:00:39s\n",
      "epoch 10 | loss: 0.34347 | train_auc: 0.92636 | valid_auc: 0.92637 |  0:00:43s\n",
      "epoch 11 | loss: 0.34302 | train_auc: 0.92632 | valid_auc: 0.92538 |  0:00:47s\n",
      "epoch 12 | loss: 0.3391  | train_auc: 0.92902 | valid_auc: 0.92812 |  0:00:51s\n",
      "epoch 13 | loss: 0.34351 | train_auc: 0.93013 | valid_auc: 0.92865 |  0:00:55s\n",
      "epoch 14 | loss: 0.33525 | train_auc: 0.9285  | valid_auc: 0.92834 |  0:00:59s\n",
      "epoch 15 | loss: 0.33263 | train_auc: 0.92904 | valid_auc: 0.92802 |  0:01:04s\n",
      "epoch 16 | loss: 0.33409 | train_auc: 0.93096 | valid_auc: 0.92879 |  0:01:09s\n",
      "epoch 17 | loss: 0.32922 | train_auc: 0.93208 | valid_auc: 0.92845 |  0:01:13s\n",
      "epoch 18 | loss: 0.33692 | train_auc: 0.93258 | valid_auc: 0.92953 |  0:01:18s\n",
      "epoch 19 | loss: 0.32822 | train_auc: 0.93293 | valid_auc: 0.92853 |  0:01:22s\n",
      "epoch 20 | loss: 0.33244 | train_auc: 0.93364 | valid_auc: 0.92679 |  0:01:27s\n",
      "epoch 21 | loss: 0.324   | train_auc: 0.93405 | valid_auc: 0.92775 |  0:01:31s\n",
      "epoch 22 | loss: 0.3245  | train_auc: 0.93383 | valid_auc: 0.92669 |  0:01:36s\n",
      "epoch 23 | loss: 0.32032 | train_auc: 0.93547 | valid_auc: 0.92689 |  0:01:40s\n",
      "epoch 24 | loss: 0.32216 | train_auc: 0.93482 | valid_auc: 0.92656 |  0:01:44s\n",
      "epoch 25 | loss: 0.32546 | train_auc: 0.93521 | valid_auc: 0.92638 |  0:01:48s\n",
      "epoch 26 | loss: 0.32264 | train_auc: 0.93365 | valid_auc: 0.92673 |  0:01:52s\n",
      "epoch 27 | loss: 0.32031 | train_auc: 0.93594 | valid_auc: 0.92824 |  0:01:56s\n",
      "epoch 28 | loss: 0.31999 | train_auc: 0.93657 | valid_auc: 0.92474 |  0:02:00s\n",
      "epoch 29 | loss: 0.31758 | train_auc: 0.93425 | valid_auc: 0.92476 |  0:02:04s\n",
      "epoch 30 | loss: 0.31959 | train_auc: 0.93649 | valid_auc: 0.92618 |  0:02:08s\n",
      "epoch 31 | loss: 0.31665 | train_auc: 0.9365  | valid_auc: 0.92605 |  0:02:12s\n",
      "epoch 32 | loss: 0.31577 | train_auc: 0.93742 | valid_auc: 0.92453 |  0:02:16s\n",
      "epoch 33 | loss: 0.31519 | train_auc: 0.93637 | valid_auc: 0.92518 |  0:02:21s\n",
      "epoch 34 | loss: 0.31567 | train_auc: 0.93722 | valid_auc: 0.92631 |  0:02:26s\n",
      "epoch 35 | loss: 0.31409 | train_auc: 0.93948 | valid_auc: 0.92768 |  0:02:30s\n",
      "epoch 36 | loss: 0.30778 | train_auc: 0.93896 | valid_auc: 0.92376 |  0:02:34s\n",
      "epoch 37 | loss: 0.31214 | train_auc: 0.94088 | valid_auc: 0.92606 |  0:02:39s\n",
      "epoch 38 | loss: 0.30311 | train_auc: 0.94143 | valid_auc: 0.92604 |  0:02:43s\n",
      "\n",
      "Early stopping occurred at epoch 38 with best_epoch = 18 and best_valid_auc = 0.92953\n",
      "Best weights from best epoch are automatically used!\n"
     ]
    },
    {
     "name": "stderr",
     "output_type": "stream",
     "text": [
      "/Users/ss/opt/anaconda3/envs/ncaa/lib/python3.7/site-packages/pytorch_tabnet/abstract_model.py:97: UserWarning: Pretraining: cat_dims changed from [] to [73, 9, 16, 16, 7, 15, 6, 5, 2, 119, 92, 94, 42]\n",
      "  warnings.warn(wrn_msg)\n",
      "/Users/ss/opt/anaconda3/envs/ncaa/lib/python3.7/site-packages/pytorch_tabnet/abstract_model.py:97: UserWarning: Pretraining: cat_emb_dim changed from 1 to 3\n",
      "  warnings.warn(wrn_msg)\n",
      "/Users/ss/opt/anaconda3/envs/ncaa/lib/python3.7/site-packages/pytorch_tabnet/abstract_model.py:97: UserWarning: Pretraining: cat_idxs changed from [] to [0, 1, 3, 4, 5, 6, 7, 8, 9, 10, 11, 12, 13]\n",
      "  warnings.warn(wrn_msg)\n",
      "/Users/ss/opt/anaconda3/envs/ncaa/lib/python3.7/site-packages/pytorch_tabnet/abstract_model.py:97: UserWarning: Pretraining: mask_type changed from sparsemax to entmax\n",
      "  warnings.warn(wrn_msg)\n"
     ]
    }
   ],
   "source": [
    "unsupervised_model.save_model('./test_pretrain')\n",
    "loaded_pretrain = TabNetPretrainer()\n",
    "loaded_pretrain.load_model('./test_pretrain.zip')\n",
    "\n",
    "\n",
    "##%\n",
    "\n",
    "clf = TabNetClassifier(\n",
    "    optimizer_fn=torch.optim.Adam,\n",
    "    optimizer_params=dict(lr=2e-2),\n",
    "    scheduler_params={\"step_size\":10, # how to use learning rate scheduler\n",
    "                      \"gamma\":0.9},\n",
    "    scheduler_fn=torch.optim.lr_scheduler.StepLR,\n",
    "    mask_type='sparsemax' # This will be overwritten if using pretrain model\n",
    ")\n",
    "\n",
    "clf.fit(\n",
    "    X_train=X_train, y_train=y_train,\n",
    "    eval_set=[(X_train, y_train), (X_valid, y_valid)],\n",
    "    eval_name=['train', 'valid'],\n",
    "    eval_metric=['auc'],\n",
    "    max_epochs=max_epochs , patience=20,\n",
    "    batch_size=1024, virtual_batch_size=128,\n",
    "    num_workers=0,\n",
    "    weights=1,\n",
    "    drop_last=False,\n",
    "    from_unsupervised=loaded_pretrain\n",
    ")"
   ],
   "metadata": {
    "collapsed": false,
    "pycharm": {
     "name": "#%%\n"
    }
   }
  },
  {
   "cell_type": "code",
   "execution_count": 23,
   "outputs": [
    {
     "data": {
      "text/plain": "[<matplotlib.lines.Line2D at 0x7f832adb5b10>]"
     },
     "execution_count": 23,
     "metadata": {},
     "output_type": "execute_result"
    },
    {
     "data": {
      "text/plain": "<Figure size 432x288 with 1 Axes>",
      "image/png": "[encoded data removed]"
     },
     "metadata": {
      "needs_background": "light"
     },
     "output_type": "display_data"
    }
   ],
   "source": [
    "plt.plot(clf.history['loss'])"
   ],
   "metadata": {
    "collapsed": false,
    "pycharm": {
     "name": "#%%\n"
    }
   }
  },
  {
   "cell_type": "code",
   "execution_count": 24,
   "outputs": [
    {
     "data": {
      "text/plain": "[<matplotlib.lines.Line2D at 0x7f832b035190>]"
     },
     "execution_count": 24,
     "metadata": {},
     "output_type": "execute_result"
    },
    {
     "data": {
      "text/plain": "<Figure size 432x288 with 1 Axes>",
      "image/png": "[encoded data removed]"
     },
     "metadata": {
      "needs_background": "light"
     },
     "output_type": "display_data"
    }
   ],
   "source": [
    "# plot auc\n",
    "plt.plot(clf.history['train_auc'])\n",
    "plt.plot(clf.history['valid_auc'])"
   ],
   "metadata": {
    "collapsed": false,
    "pycharm": {
     "name": "#%%\n"
    }
   }
  },
  {
   "cell_type": "code",
   "execution_count": 25,
   "outputs": [
    {
     "data": {
      "text/plain": "[<matplotlib.lines.Line2D at 0x7f830b435050>]"
     },
     "execution_count": 25,
     "metadata": {},
     "output_type": "execute_result"
    },
    {
     "data": {
      "text/plain": "<Figure size 432x288 with 1 Axes>",
      "image/png": "[encoded data removed]"
     },
     "metadata": {
      "needs_background": "light"
     },
     "output_type": "display_data"
    }
   ],
   "source": [
    "# plot learning rates\n",
    "plt.plot(clf.history['lr'])"
   ],
   "metadata": {
    "collapsed": false,
    "pycharm": {
     "name": "#%%\n"
    }
   }
  },
  {
   "cell_type": "code",
   "execution_count": 26,
   "outputs": [
    {
     "name": "stdout",
     "output_type": "stream",
     "text": [
      "BEST VALID SCORE FOR census-income : 0.9295297973308444\n",
      "FINAL TEST SCORE FOR census-income : 0.9257830266298044\n"
     ]
    }
   ],
   "source": [
    "preds = clf.predict_proba(X_test)\n",
    "test_auc = roc_auc_score(y_score=preds[:,1], y_true=y_test)\n",
    "\n",
    "preds_valid = clf.predict_proba(X_valid)\n",
    "valid_auc = roc_auc_score(y_score=preds_valid[:,1], y_true=y_valid)\n",
    "\n",
    "print(f\"BEST VALID SCORE FOR {dataset_name} : {clf.best_cost}\")\n",
    "print(f\"FINAL TEST SCORE FOR {dataset_name} : {test_auc}\")"
   ],
   "metadata": {
    "collapsed": false,
    "pycharm": {
     "name": "#%%\n"
    }
   }
  },
  {
   "cell_type": "code",
   "execution_count": 27,
   "outputs": [],
   "source": [
    "# check that best weights are used\n",
    "assert np.isclose(valid_auc, np.max(clf.history['valid_auc']), atol=1e-6)"
   ],
   "metadata": {
    "collapsed": false,
    "pycharm": {
     "name": "#%%\n"
    }
   }
  },
  {
   "cell_type": "code",
   "execution_count": 28,
   "outputs": [
    {
     "name": "stdout",
     "output_type": "stream",
     "text": [
      "Successfully saved model at ./tabnet_model_test_1.zip\n"
     ]
    }
   ],
   "source": [
    "# save tabnet model\n",
    "saving_path_name = \"./tabnet_model_test_1\"\n",
    "saved_filepath = clf.save_model(saving_path_name)"
   ],
   "metadata": {
    "collapsed": false,
    "pycharm": {
     "name": "#%%\n"
    }
   }
  },
  {
   "cell_type": "code",
   "execution_count": 29,
   "outputs": [
    {
     "name": "stdout",
     "output_type": "stream",
     "text": [
      "Device used : cpu\n",
      "Device used : cpu\n"
     ]
    }
   ],
   "source": [
    "# define new model with basic parameters and load state dict weights\n",
    "loaded_clf = TabNetClassifier()\n",
    "loaded_clf.load_model(saved_filepath)"
   ],
   "metadata": {
    "collapsed": false,
    "pycharm": {
     "name": "#%%\n"
    }
   }
  },
  {
   "cell_type": "code",
   "execution_count": 30,
   "outputs": [
    {
     "name": "stdout",
     "output_type": "stream",
     "text": [
      "FINAL TEST SCORE FOR census-income : 0.9257830266298044\n"
     ]
    }
   ],
   "source": [
    "loaded_preds = loaded_clf.predict_proba(X_test)\n",
    "loaded_test_auc = roc_auc_score(y_score=loaded_preds[:,1], y_true=y_test)\n",
    "\n",
    "print(f\"FINAL TEST SCORE FOR {dataset_name} : {loaded_test_auc}\")"
   ],
   "metadata": {
    "collapsed": false,
    "pycharm": {
     "name": "#%%\n"
    }
   }
  },
  {
   "cell_type": "code",
   "execution_count": 34,
   "outputs": [
    {
     "data": {
      "text/plain": "           feature  importance\n3        Bachelors    0.214705\n8            White    0.160252\n10            2174    0.117332\n0               39    0.088918\n6     Adm-clerical    0.085049\n5    Never-married    0.078773\n7    Not-in-family    0.067294\n12              40    0.066029\n11               0    0.063148\n4               13    0.044157\n13   United-States    0.011873\n1        State-gov    0.002110\n9             Male    0.000359\n2            77516    0.000000",
      "text/html": "<div>\n<style scoped>\n    .dataframe tbody tr th:only-of-type {\n        vertical-align: middle;\n    }\n\n    .dataframe tbody tr th {\n        vertical-align: top;\n    }\n\n    .dataframe thead th {\n        text-align: right;\n    }\n</style>\n<table border=\"1\" class=\"dataframe\">\n  <thead>\n    <tr style=\"text-align: right;\">\n      <th></th>\n      <th>feature</th>\n      <th>importance</th>\n    </tr>\n  </thead>\n  <tbody>\n    <tr>\n      <th>3</th>\n      <td>Bachelors</td>\n      <td>0.214705</td>\n    </tr>\n    <tr>\n      <th>8</th>\n      <td>White</td>\n      <td>0.160252</td>\n    </tr>\n    <tr>\n      <th>10</th>\n      <td>2174</td>\n      <td>0.117332</td>\n    </tr>\n    <tr>\n      <th>0</th>\n      <td>39</td>\n      <td>0.088918</td>\n    </tr>\n    <tr>\n      <th>6</th>\n      <td>Adm-clerical</td>\n      <td>0.085049</td>\n    </tr>\n    <tr>\n      <th>5</th>\n      <td>Never-married</td>\n      <td>0.078773</td>\n    </tr>\n    <tr>\n      <th>7</th>\n      <td>Not-in-family</td>\n      <td>0.067294</td>\n    </tr>\n    <tr>\n      <th>12</th>\n      <td>40</td>\n      <td>0.066029</td>\n    </tr>\n    <tr>\n      <th>11</th>\n      <td>0</td>\n      <td>0.063148</td>\n    </tr>\n    <tr>\n      <th>4</th>\n      <td>13</td>\n      <td>0.044157</td>\n    </tr>\n    <tr>\n      <th>13</th>\n      <td>United-States</td>\n      <td>0.011873</td>\n    </tr>\n    <tr>\n      <th>1</th>\n      <td>State-gov</td>\n      <td>0.002110</td>\n    </tr>\n    <tr>\n      <th>9</th>\n      <td>Male</td>\n      <td>0.000359</td>\n    </tr>\n    <tr>\n      <th>2</th>\n      <td>77516</td>\n      <td>0.000000</td>\n    </tr>\n  </tbody>\n</table>\n</div>"
     },
     "execution_count": 34,
     "metadata": {},
     "output_type": "execute_result"
    }
   ],
   "source": [
    "pd.DataFrame({\"feature\": features, \"importance\": clf.feature_importances_}).sort_values(by=\"importance\", ascending=False)"
   ],
   "metadata": {
    "collapsed": false,
    "pycharm": {
     "name": "#%%\n"
    }
   }
  },
  {
   "cell_type": "code",
   "execution_count": 38,
   "outputs": [
    {
     "data": {
      "text/plain": "<Figure size 1440x1440 with 3 Axes>",
      "image/png": "[encoded data removed]"
     },
     "metadata": {
      "needs_background": "light"
     },
     "output_type": "display_data"
    }
   ],
   "source": [
    "explain_matrix, masks = clf.explain(X_test)\n",
    "fig, axs = plt.subplots(1, 3, figsize=(20,20))\n",
    "for i in range(3):\n",
    "    axs[i].imshow(masks[i][:50])\n",
    "    axs[i].set_title(f\"mask {i}\")\n",
    "plt.show()"
   ],
   "metadata": {
    "collapsed": false,
    "pycharm": {
     "name": "#%%\n"
    }
   }
  },
  {
   "cell_type": "code",
   "execution_count": null,
   "outputs": [],
   "source": [],
   "metadata": {
    "collapsed": false,
    "pycharm": {
     "name": "#%%\n"
    }
   }
  }
 ],
 "metadata": {
  "kernelspec": {
   "name": "pycharm-223859c8",
   "language": "python",
   "display_name": "PyCharm (kaggle-ncaa2021)"
  },
  "language_info": {
   "codemirror_mode": {
    "name": "ipython",
    "version": 2
   },
   "file_extension": ".py",
   "mimetype": "text/x-python",
   "name": "python",
   "nbconvert_exporter": "python",
   "pygments_lexer": "ipython2",
   "version": "2.7.6"
  }
 },
 "nbformat": 4,
 "nbformat_minor": 0
}